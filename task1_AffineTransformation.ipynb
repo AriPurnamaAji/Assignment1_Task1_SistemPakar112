{
 "cells": [
  {
   "cell_type": "markdown",
   "metadata": {},
   "source": [
    "# Assignment 1 \n",
    "## Task 1 (Affine Transformation)\n",
    "### Ari Purnama Aji_1313617008_Sistem Pakar 112\n",
    "Pada task ini akan dilakukan operasi trasnformasi affine pada sebuah bangun dua dimensi dengan menggunakan beberapa operasi matriks affine."
   ]
  },
  {
   "cell_type": "code",
   "execution_count": 10,
   "metadata": {},
   "outputs": [],
   "source": [
    "import numpy as np\n",
    "from PIL import Image\n",
    "import matplotlib.pyplot as plt"
   ]
  },
  {
   "cell_type": "code",
   "execution_count": 11,
   "metadata": {},
   "outputs": [
    {
     "data": {
      "image/png": "[encoded data removed]",
      "text/plain": [
       "<Figure size 432x288 with 1 Axes>"
      ]
     },
     "metadata": {
      "needs_background": "light"
     },
     "output_type": "display_data"
    }
   ],
   "source": [
    "# Melakukan input gambar \n",
    "img = Image.open('picture.png')\n",
    "\n",
    "# Mendapatkan bentuk matriks dari gambar\n",
    "G = np.array(img)\n",
    "plt.imshow(img)\n",
    "plt.show()"
   ]
  },
  {
   "cell_type": "markdown",
   "metadata": {},
   "source": [
    "Berikut merupakan gambar sampel beresolusi 400x400 pixel yang akan dipakai pada operasi transformasi affiine 2D"
   ]
  },
  {
   "cell_type": "code",
   "execution_count": 12,
   "metadata": {},
   "outputs": [
    {
     "data": {
      "text/plain": [
       "(400, 400, 3)"
      ]
     },
     "execution_count": 12,
     "metadata": {},
     "output_type": "execute_result"
    }
   ],
   "source": [
    "G.shape"
   ]
  },
  {
   "cell_type": "code",
   "execution_count": 13,
   "metadata": {},
   "outputs": [
    {
     "data": {
      "image/png": "[encoded data removed]",
      "text/plain": [
       "<Figure size 432x288 with 1 Axes>"
      ]
     },
     "metadata": {
      "needs_background": "light"
     },
     "output_type": "display_data"
    }
   ],
   "source": [
    "# Membuat matriks 3D dengan ukuran 1000x1000 yang setiap element matriksnya bernilai 0\n",
    "canvasKosong = np.zeros((1000, 1000, 3), dtype='uint8')\n",
    "plt.imshow(canvasKosong)\n",
    "plt.show()"
   ]
  },
  {
   "cell_type": "markdown",
   "metadata": {},
   "source": [
    "Disini juga telah disiapkan gambar canvasKosong yang ukurannya lebih bersar dari gambar sampelnya yang digunakan sebagai wadah untuk menaruh gambar sampel, sehingga gambar sampel seperti terletak pada diagram kartesian."
   ]
  },
  {
   "cell_type": "code",
   "execution_count": 14,
   "metadata": {},
   "outputs": [
    {
     "data": {
      "image/png": "[encoded data removed]",
      "text/plain": [
       "<Figure size 432x288 with 1 Axes>"
      ]
     },
     "metadata": {
      "needs_background": "light"
     },
     "output_type": "display_data"
    }
   ],
   "source": [
    "# Membuat gambar canvasAwal yang terlihat juga bentuk gambar sampelnya\n",
    "canvasAwal = canvasKosong.copy()\n",
    "canvasAwal[300:700, 300:700] += np.flip(G, 0) \n",
    "plt.imshow(canvasAwal)\n",
    "plt.show()"
   ]
  },
  {
   "cell_type": "markdown",
   "metadata": {},
   "source": [
    "Selanjutnya tersedia juga gambar canvasAwal yang telah terlihat juga gambar sampelnya. Namun gambar canvasAwal ini dibalik, hal ini bertujuan untuk menyamakan mapping array di komputer yang berbeda dengan diagram kartesian, sehingga ketika melakukan operasi transformasi, titik(x, y) dapat berpindah dengan arah sumbu seperti pada diagram kartesian."
   ]
  },
  {
   "cell_type": "markdown",
   "metadata": {},
   "source": [
    "### 1. Scaling\n",
    "Transformasi Affine untuk skala melakukan penskalaan dengan menggunakan dua faktor skala yaitu Sx dan Sy masing-masing untuk koordinat x dan y. Persamaan transformasinya diberikan pada persamaan berikut ini. (Qx, Qy) = (Sx * Px, Sy * Py).<br/>\n",
    "Sehingga matriks untuk transformasi skala adalah: <br/>\n",
    "[Sx, 0, 0]<br/>\n",
    "[0, Sy, 0]<br/>\n",
    "[0, 0, 1]<br/>"
   ]
  },
  {
   "cell_type": "code",
   "execution_count": 15,
   "metadata": {},
   "outputs": [
    {
     "data": {
      "image/png": "[encoded data removed]",
      "text/plain": [
       "<Figure size 432x288 with 1 Axes>"
      ]
     },
     "metadata": {
      "needs_background": "light"
     },
     "output_type": "display_data"
    }
   ],
   "source": [
    "# Membuat gambar canvasScaling sebagai wadah khusus untuk melakukan operasi scaling \n",
    "canvasScaling = canvasKosong.copy()\n",
    "\n",
    "# Menentukan besaran skala\n",
    "Sx = 1.4   # skala untuk koordinat x\n",
    "Sy = 0.7   # skala untuk koordinat y\n",
    "\n",
    "# Membuat matriks umtuk transformasi scaling\n",
    "S = np.array([\n",
    "    [Sx, 0, 0],\n",
    "    [0, Sy, 0],\n",
    "    [0, 0, 1]\n",
    "])\n",
    "\n",
    "# Pengulangan untuk melakukan operasi transformasi dengan mengalikan setiap vektor di titik P dengan matriks scaling\n",
    "for y in range(300, 700):\n",
    "    for x in range(300, 700):\n",
    "        P = np.array([x, y, 1])\n",
    "        Q = S @ P\n",
    "        canvasScaling[int(Q[1]), int(Q[0])] = canvasAwal[y,x] # memindahkan pixel di canvas lama pada koordinat (x,y) \n",
    "                                                              # ke canvas baru pada koordinat (x',y')\n",
    "\n",
    "plt.imshow(np.flip(canvasScaling, 0))\n",
    "plt.show()"
   ]
  },
  {
   "cell_type": "markdown",
   "metadata": {},
   "source": [
    "Dari hasil percobaan di atas terlihat terjadi perubahan ukuran gambar mengikuti besaran skala yang telah ditentukan dimana nilai : Sx = 1.4 dan Sy = 0.7 sehingga gambar menjadi lebih besar ke arah sumbu x dan lebih menngecil ke arah sumbu y."
   ]
  },
  {
   "cell_type": "markdown",
   "metadata": {},
   "source": [
    "### 2. Translation\n",
    "Vektor (tx , ty) adalah vektor offset yang menyatakan besarnya pergeseran.<br/>\n",
    "Persamaan transformasinya diberikan pada persamaan berikut ini. (Qx, Qy) = (Px + tx, Py + ty).<br/>\n",
    "Sehingga matriks untuk transformasi tranlasi adalah: <br/>\n",
    "[1, 0, tx]<br/>\n",
    "[0, 1, ty]<br/>\n",
    "[0, 0, 1]<br/>"
   ]
  },
  {
   "cell_type": "code",
   "execution_count": 16,
   "metadata": {},
   "outputs": [
    {
     "data": {
      "image/png": "[encoded data removed]",
      "text/plain": [
       "<Figure size 432x288 with 1 Axes>"
      ]
     },
     "metadata": {
      "needs_background": "light"
     },
     "output_type": "display_data"
    }
   ],
   "source": [
    "# Membuat gambar canvasTranslation sebagai wadah khusus untuk melakukan operasi translasi \n",
    "canvasTranslation = canvasKosong.copy()\n",
    "\n",
    "# Menentukan besaran pergeseran\n",
    "tx = -200\n",
    "ty = 130\n",
    "\n",
    "# Membuat matriks untuk transformasi translasi\n",
    "T = np.array([\n",
    "    [1, 0, tx],\n",
    "    [0, 1, ty],\n",
    "    [0, 0, 1]\n",
    "])\n",
    "\n",
    "# Pengulangan untuk melakukan operasi transformasi dengan mengalikan setiap vektor di titik P dengan matriks translasi\n",
    "for y in range(300, 700):\n",
    "    for x in range(300, 700):\n",
    "        P = np.array([x, y, 1])\n",
    "        Q = T @ P\n",
    "        canvasTranslation[int(Q[1]), int(Q[0])] = canvasAwal[y,x]  # memindahkan pixel di canvas lama pada koordinat (x,y) \n",
    "                                                                   # ke canvas baru pada koordinat (x',y')\n",
    "\n",
    "plt.imshow(np.flip(canvasTranslation, 0))\n",
    "plt.show()"
   ]
  },
  {
   "cell_type": "markdown",
   "metadata": {},
   "source": [
    "Dari hasil percobaan di atas terlihat terjadi perpindahan posisi gambar mengikuti besaran vektor offset yang telah ditentukan, dimana nilai tx = -200 dan ty = 130 sehingga gambar bergeser ke kiri ke arah sumbu x dan bergeser ke atas ke arah sumbu y."
   ]
  },
  {
   "cell_type": "markdown",
   "metadata": {},
   "source": [
    "### 3. Rotation\n",
    "Transformasi Affine untuk rotasi diberikan oleh persamaan berikut ini.<br/>\n",
    "Qx = Px * cos(teta) – Py * sin(teta)<br/>\n",
    "Qy = Px * sin(teta) – Py * cos(teta)<br/>\n",
    "\n",
    "Matriks transformasinya adalah sebagai berikut:<br/>\n",
    "[cos(teta), -sin(teta), 0]<br/>\n",
    "[sin(teta),  cos(teta), 0]<br/>\n",
    "[        0,          0, 1]"
   ]
  },
  {
   "cell_type": "code",
   "execution_count": 17,
   "metadata": {},
   "outputs": [
    {
     "data": {
      "image/png": "[encoded data removed]",
      "text/plain": [
       "<Figure size 432x288 with 1 Axes>"
      ]
     },
     "metadata": {
      "needs_background": "light"
     },
     "output_type": "display_data"
    }
   ],
   "source": [
    "# Membuat gambar canvasRotation sebagai wadah khusus untuk melakukan operasi rotasi\n",
    "canvasRotation = canvasKosong.copy()\n",
    "\n",
    "# Menentukan besaran derajat rotasi\n",
    "teta = np.pi*18/180   #~18 derajat\n",
    "\n",
    "# Membuat matriks untuk transformasi rotasi\n",
    "R = np.array([\n",
    "    [np.cos(teta), -np.sin(teta), 0],\n",
    "    [np.sin(teta), np.cos(teta), 0],\n",
    "    [0, 0, 1]\n",
    "])\n",
    "\n",
    "# Pengulangan untuk melakukan operasi transformasi dengan mengalikan setiap vektor di titik P dengan matriks rotasi\n",
    "for y in range(300, 700):\n",
    "    for x in range(300, 700):\n",
    "        P = np.array([x, y, 1])\n",
    "        Q = R @ P\n",
    "        canvasRotation[int(Q[1]), int(Q[0])] = canvasAwal[y,x]   # memindahkan pixel di canvas lama pada koordinat (x,y) \n",
    "                                                                 # ke canvas baru pada koordinat (x',y')\n",
    "\n",
    "plt.imshow(np.flip(canvasRotation, 0))\n",
    "plt.show()"
   ]
  },
  {
   "cell_type": "markdown",
   "metadata": {},
   "source": [
    "Dari hasil percobaan di atas terlihat perputaran posisi gambar yang mengikuti besaran derajat rotasi yang telah ditentukan, dimana nilai teta = (phi*18/180) sehingga gambar berputar ke atas berlawanan arah jarum jam."
   ]
  },
  {
   "cell_type": "markdown",
   "metadata": {},
   "source": [
    "### 4. Projectives\n",
    "Operasi transformasi Projectives memiliki bentuk persamaan matriks berikut:\n",
    "[x']= [h11 h12 h13] [x]\n",
    "[y']= [h21 h22 h23] [y]\n",
    "[(1)]=[h31 h32 (1)] [(1)]\n",
    "\n",
    "Untuk mendapatkan nilai setiap h harus ditentukan terlebih dahulu setiap pasang koordinat titik awal dan akhir.\n",
    "Dengan nilai setiap pasang koordinat titik awal dan akhir yang telah ditentukan lalu dioperasikan dengan persamaan matriks berikut:<br/>\n",
    "P\\*H = 0<br/>\n",
    "Dimana:<br/>\n",
    "Pi =<br/> \n",
    "[-xi, -yi, -1, 0, 0, 0, xi\\*x'i, yi\\*x'i, x'i]<br/>\n",
    "[0, 0, 0, -xi, -yi, -1, xi\\*y'i, yi\\*y'i, y'i]<br/>\n",
    "dan vektor kolom<br/>\n",
    "H =[0,0,0,0,0,0,0,0,1]\n"
   ]
  },
  {
   "cell_type": "code",
   "execution_count": 18,
   "metadata": {},
   "outputs": [
    {
     "data": {
      "image/png": "[encoded data removed]",
      "text/plain": [
       "<Figure size 432x288 with 1 Axes>"
      ]
     },
     "metadata": {
      "needs_background": "light"
     },
     "output_type": "display_data"
    }
   ],
   "source": [
    "# Menentukan setiap koordinat(x,y) untuk titik awal dan titik tujuan\n",
    "xA1, yA1, xA2, yA2, xA3, yA3, xA4, yA4 = 300, 300, 700, 300, 300, 700, 700, 700     # titik awal\n",
    "xB1, yB1, xB2, yB2, xB3, yB3, xB4, yB4 = 200, 400, 850, 250, 370, 840, 860, 500     # titik tujuan\n",
    "\n",
    "# Membuat matriks yang dibentuk dari setiap pasang koordinat titik awal dan akhir\n",
    "P = np.array([\n",
    "    [-xA1, -yA1, -1, 0 ,0 ,0, xA1*xB1, yA1*xB1, xB1],\n",
    "    [0, 0, 0, -xA1, -yA1, -1, xA1*yB1, yA1*yB1, yB1],\n",
    "    [-xA2, -yA2, -1, 0, 0, 0, xA2*xB2, yA2*xB2, xB2],\n",
    "    [0, 0, 0, -xA2, -yA2, -1, xA2*yB2, yA2*yB2, yB2],\n",
    "    [-xA3, -yA3, -1, 0, 0, 0, xA3*xB3, yA3*xB3, xB3],\n",
    "    [0, 0, 0, -xA3, -yA3, -1, xA3*yB3, yA3*yB3, yB3],\n",
    "    [-xA4, -yA4, -1, 0, 0, 0, xA4*xB4, yA4*xB4, xB4],\n",
    "    [0, 0, 0, -xA4, -yA4, -1, xA4*yB4, yA4*yB4, yB4],\n",
    "    [0, 0, 0, 0, 0, 0, 0, 0, 1]\n",
    "])\n",
    "\n",
    "# Membuat vektor nol untuk persamaan\n",
    "H = np.array([0,0,0,0,0,0,0,0,1])\n",
    "\n",
    "# Mendapatkan nilai untuk vektor projectives\n",
    "pr = np.linalg.inv(P) @ H\n",
    "\n",
    "# Membuat matriks untuk transformasi projectives\n",
    "PR = np.reshape(pr, [3,3])\n",
    "\n",
    "# Membuat gambar canvasProjectives sebagai wadah khusus untuk melakukan operasi proyeksi\n",
    "canvasProjectives = canvasKosong.copy()\n",
    "\n",
    "# Pengulangan untuk melakukan operasi transformasi dengan mengalikan setiap vektor di titik P dengan matriks proyeksi\n",
    "for y in range(300,700):\n",
    "    for x in range(300,700):\n",
    "        P = np.array([x, y, 1])\n",
    "        Q = PR @ P\n",
    "        Q /= Q[2]\n",
    "        canvasProjectives[int(Q[1]),int(Q[0])] = canvasAwal[y,x]\n",
    "        \n",
    "plt.imshow(np.flip(canvasProjectives, 0))\n",
    "plt.show()"
   ]
  },
  {
   "cell_type": "markdown",
   "metadata": {},
   "source": [
    "Dari hasil percobaan di atas terlihat gambar telah berhasil diprojeksikan, yang gambarnya berbentuk sebuah bidang yang seakan-akan menghadap sebelah kanan atas dari belakang kita. "
   ]
  }
 ],
 "metadata": {
  "kernelspec": {
   "display_name": "Python 3",
   "language": "python",
   "name": "python3"
  },
  "language_info": {
   "codemirror_mode": {
    "name": "ipython",
    "version": 3
   },
   "file_extension": ".py",
   "mimetype": "text/x-python",
   "name": "python",
   "nbconvert_exporter": "python",
   "pygments_lexer": "ipython3",
   "version": "3.7.3"
  }
 },
 "nbformat": 4,
 "nbformat_minor": 2
}
